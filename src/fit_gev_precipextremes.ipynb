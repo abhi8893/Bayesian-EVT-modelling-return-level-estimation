{
 "cells": [
  {
   "cell_type": "code",
   "execution_count": 1,
   "metadata": {},
   "outputs": [],
   "source": [
    "import xarray as xr\n",
    "from cdo import Cdo\n",
    "cdo = Cdo()\n",
    "import sys\n",
    "sys.path.append(\"/home/abhi/Documents/mygit/postBC_diagnostic/src/scripts\")\n",
    "from recipes import *\n",
    "import matplotlib.pyplot as plt\n",
    "import matplotlib as mpl\n",
    "mpl.style.use('seaborn')\n",
    "import pandas as pd"
   ]
  },
  {
   "cell_type": "code",
   "execution_count": 2,
   "metadata": {},
   "outputs": [],
   "source": [
    "from scipy.stats import genextreme as gev\n",
    "import numpy as np\n",
    "from scipy.stats import ks_2samp"
   ]
  },
  {
   "cell_type": "code",
   "execution_count": 3,
   "metadata": {},
   "outputs": [],
   "source": [
    "data_dir = \"/home/abhi/Documents/data/\"\n",
    "obs = f'{data_dir}/OBSERVATION/IMD/precip/1901-2017_ll25.nc'"
   ]
  },
  {
   "cell_type": "code",
   "execution_count": 4,
   "metadata": {},
   "outputs": [],
   "source": [
    "ann_max_seas = cdo.yearmax(input=f'-selseas,JJAS {obs}', returnCDF=True)"
   ]
  },
  {
   "cell_type": "code",
   "execution_count": 5,
   "metadata": {},
   "outputs": [
    {
     "name": "stderr",
     "output_type": "stream",
     "text": [
      "/home/abhi/miniconda3/lib/python3.6/site-packages/xarray/core/nanops.py:162: RuntimeWarning: Mean of empty slice\n",
      "  return np.nanmean(a, axis=axis, dtype=dtype)\n"
     ]
    }
   ],
   "source": [
    "ds = xr.open_dataset(ann_max_seas).mean(dim='bnds').drop('time_bnds')"
   ]
  },
  {
   "cell_type": "code",
   "execution_count": 6,
   "metadata": {},
   "outputs": [],
   "source": [
    "ds_region = {}"
   ]
  },
  {
   "cell_type": "code",
   "execution_count": 7,
   "metadata": {},
   "outputs": [],
   "source": [
    "ds_region['1971-2000'] = selyear(sellonlatbox(ds, [73, 76, 18, 21]), years=range(1971, 2001))\n",
    "ds_region['1941-1970'] = selyear(sellonlatbox(ds, [73, 76, 18, 21]), years=range(1941, 1971))"
   ]
  },
  {
   "cell_type": "code",
   "execution_count": 8,
   "metadata": {},
   "outputs": [],
   "source": [
    "df = pd.DataFrame({key: np.histogram(ds_region[key].rf.values.flatten(),\n",
    "                                     bins=np.arange(0, 410, 10), density=True)[0]\n",
    "              for key in ds_region.keys()})\n"
   ]
  },
  {
   "cell_type": "code",
   "execution_count": 9,
   "metadata": {},
   "outputs": [],
   "source": [
    "df.set_index(np.arange(5, 405, 10), inplace=True)"
   ]
  },
  {
   "cell_type": "code",
   "execution_count": 118,
   "metadata": {},
   "outputs": [
    {
     "data": {
      "image/png": "[encoded data removed]",
      "text/plain": [
       "<Figure size 432x288 with 1 Axes>"
      ]
     },
     "metadata": {
      "needs_background": "light"
     },
     "output_type": "display_data"
    }
   ],
   "source": [
    "fig, ax = plt.subplots()\n",
    "\n",
    "ax.set_xlim(0, 400)\n",
    "ax.set_ylim(0, 0.016)\n",
    "colors = iter(['crimson', 'royalblue'])\n",
    "\n",
    "for key, value in ds_region.items():\n",
    "    region_vals = value.rf.values.flatten()\n",
    "\n",
    "    shp, loc, scl = gev.fit(region_vals)\n",
    "\n",
    "    x_grid = np.linspace(0, 400, 200)\n",
    "    region_pdf = gev.pdf(x_grid, loc=loc, scale=scl, c=shp)\n",
    "\n",
    "    ax.plot(x_grid, region_pdf, label=key, color=next(colors))\n",
    "    ax.plot\n",
    "    \n",
    "ax.legend()\n",
    "ax.set_xticks(np.arange(0, 420, 40))\n",
    "\n",
    "ax.bar(df.index-2, df['1971-2000'], width=4, color='crimson', alpha=0.5)\n",
    "ax.bar(df.index+2, df['1941-1970'], width=4, color='royalblue', alpha=0.5)\n",
    "\n",
    "ax.set_xlabel('Precipitation (mm/day)', fontweight='bold')\\\n",
    "\n",
    "caption = fig.text(0.5, -0.1,\n",
    "                   'Fig. Monsoonal annual maximum precipitation fitted to a GEV ditribution\\n'+\\\n",
    "                   'for a 3x3 box LL(73$^\\circ$E, 18$^\\circ$N), UR(76$^\\circ$E, 21$^\\circ$N) '+\\\n",
    "                   'for two time periods 1941-1970, and 1971-2000.',\n",
    "                   ha='center', va='center')\n",
    "\n",
    "fig.savefig(\"../output/gev_blockmax_precip2.png\", dpi=400, bbox_inches='tight')"
   ]
  },
  {
   "cell_type": "markdown",
   "metadata": {},
   "source": [
    "### Analysing the JJAS annual maximum precipitation distribution over the Western ghats region accross time slices"
   ]
  },
  {
   "cell_type": "code",
   "execution_count": 37,
   "metadata": {},
   "outputs": [],
   "source": [
    "import geopandas as gpd\n",
    "import salem\n",
    "shp = gpd.read_file(\"/home/abhi/Documents/data/shapefiles/India_climatic_correct/India_climatic_correct.shp\")"
   ]
  },
  {
   "cell_type": "code",
   "execution_count": 44,
   "metadata": {},
   "outputs": [],
   "source": [
    "shp.index.name = 'Region'"
   ]
  },
  {
   "cell_type": "code",
   "execution_count": 47,
   "metadata": {},
   "outputs": [
    {
     "data": {
      "text/plain": [
       "RangeIndex(start=0, stop=8, step=1, name='Region')"
      ]
     },
     "execution_count": 47,
     "metadata": {},
     "output_type": "execute_result"
    }
   ],
   "source": [
    "shp.index"
   ]
  },
  {
   "cell_type": "code",
   "execution_count": null,
   "metadata": {},
   "outputs": [],
   "source": [
    "ds = xr.concat([ds.salem.roi(shape=shp.loc[shp.index == index]) \n",
    "                         for index in shp.index], \n",
    "              dim=shp.index).rename({'concat_dim': 'Region'})"
   ]
  },
  {
   "cell_type": "code",
   "execution_count": 48,
   "metadata": {},
   "outputs": [
    {
     "data": {
      "text/plain": [
       "<xarray.Dataset>\n",
       "Dimensions:     (Id: 8, Region: 8, concat_dim: 8, lat: 129, lon: 135, time: 117)\n",
       "Coordinates:\n",
       "  * time        (time) datetime64[ns] 1901-07-31T12:00:00 ... 2017-07-31T12:00:00\n",
       "  * lon         (lon) float64 66.5 66.75 67.0 67.25 ... 99.25 99.5 99.75 100.0\n",
       "  * lat         (lat) float64 6.5 6.75 7.0 7.25 7.5 ... 37.75 38.0 38.25 38.5\n",
       "  * Id          (Id) int64 1 2 3 4 5 6 7 8\n",
       "  * concat_dim  (concat_dim) int64 0 1 2 3 4 5 6 7\n",
       "  * Region      (Region) int64 0 1 2 3 4 5 6 7\n",
       "Data variables:\n",
       "    rf          (Region, concat_dim, Id, time, lat, lon) float32 nan nan ... nan\n",
       "Attributes:\n",
       "    pyproj_srs:  +units=m +proj=latlong +datum=WGS84 "
      ]
     },
     "execution_count": 48,
     "metadata": {},
     "output_type": "execute_result"
    }
   ],
   "source": [
    "ds"
   ]
  },
  {
   "cell_type": "code",
   "execution_count": 41,
   "metadata": {},
   "outputs": [
    {
     "data": {
      "text/plain": [
       "<xarray.DataArray 'rf' (concat_dim: 8, lat: 129, lon: 135)>\n",
       "array([[[nan, nan, ..., nan, nan],\n",
       "        [nan, nan, ..., nan, nan],\n",
       "        ...,\n",
       "        [nan, nan, ..., nan, nan],\n",
       "        [nan, nan, ..., nan, nan]],\n",
       "\n",
       "       [[nan, nan, ..., nan, nan],\n",
       "        [nan, nan, ..., nan, nan],\n",
       "        ...,\n",
       "        [nan, nan, ..., nan, nan],\n",
       "        [nan, nan, ..., nan, nan]],\n",
       "\n",
       "       ...,\n",
       "\n",
       "       [[nan, nan, ..., nan, nan],\n",
       "        [nan, nan, ..., nan, nan],\n",
       "        ...,\n",
       "        [nan, nan, ..., nan, nan],\n",
       "        [nan, nan, ..., nan, nan]],\n",
       "\n",
       "       [[nan, nan, ..., nan, nan],\n",
       "        [nan, nan, ..., nan, nan],\n",
       "        ...,\n",
       "        [nan, nan, ..., nan, nan],\n",
       "        [nan, nan, ..., nan, nan]]], dtype=float32)\n",
       "Coordinates:\n",
       "  * lon         (lon) float64 66.5 66.75 67.0 67.25 ... 99.25 99.5 99.75 100.0\n",
       "  * lat         (lat) float64 6.5 6.75 7.0 7.25 7.5 ... 37.75 38.0 38.25 38.5\n",
       "    Id          int64 6\n",
       "  * concat_dim  (concat_dim) int64 0 1 2 3 4 5 6 7"
      ]
     },
     "execution_count": 41,
     "metadata": {},
     "output_type": "execute_result"
    }
   ],
   "source": [
    "ds.sel(Id=6).mean(dim=\"time\").rf"
   ]
  },
  {
   "cell_type": "markdown",
   "metadata": {},
   "source": [
    "### Bootstrapped confidence intervals of maximum likelihood estimated parameters for GEV distribution"
   ]
  },
  {
   "cell_type": "code",
   "execution_count": 134,
   "metadata": {},
   "outputs": [
    {
     "name": "stderr",
     "output_type": "stream",
     "text": [
      "/home/abhi/miniconda3/lib/python3.6/site-packages/scipy/stats/_continuous_distns.py:2276: RuntimeWarning: invalid value encountered in subtract\n",
      "  -pex2+logpex2-logex2)\n"
     ]
    },
    {
     "name": "stdout",
     "output_type": "stream",
     "text": [
      "CPU times: user 2min 41s, sys: 780 ms, total: 2min 42s\n",
      "Wall time: 2min 42s\n"
     ]
    }
   ],
   "source": [
    "%%time \n",
    "\n",
    "sample_size = 100\n",
    "num_draws = 1000\n",
    "\n",
    "btstrp_dict = {'shp': [], 'loc': [], 'scl': []}\n",
    "for draw in range(num_draws):\n",
    "    rvs = gev.rvs(loc=loc, scale=scl, c=shp, size=sample_size)\n",
    "    \n",
    "    shp, loc, scl = gev.fit(rvs)\n",
    "    for param in ['shp', 'loc', 'scl']:\n",
    "        btstrp_dict[param].append(eval(param))"
   ]
  },
  {
   "cell_type": "code",
   "execution_count": 135,
   "metadata": {},
   "outputs": [],
   "source": [
    "btstrp_df = pd.DataFrame(btstrp_dict)"
   ]
  },
  {
   "cell_type": "code",
   "execution_count": 146,
   "metadata": {},
   "outputs": [
    {
     "data": {
      "text/html": [
       "<div>\n",
       "<style scoped>\n",
       "    .dataframe tbody tr th:only-of-type {\n",
       "        vertical-align: middle;\n",
       "    }\n",
       "\n",
       "    .dataframe tbody tr th {\n",
       "        vertical-align: top;\n",
       "    }\n",
       "\n",
       "    .dataframe thead th {\n",
       "        text-align: right;\n",
       "    }\n",
       "</style>\n",
       "<table border=\"1\" class=\"dataframe\">\n",
       "  <thead>\n",
       "    <tr style=\"text-align: right;\">\n",
       "      <th></th>\n",
       "      <th>shp</th>\n",
       "      <th>loc</th>\n",
       "      <th>scl</th>\n",
       "    </tr>\n",
       "  </thead>\n",
       "  <tbody>\n",
       "    <tr>\n",
       "      <th>2.5%</th>\n",
       "      <td>-0.319677</td>\n",
       "      <td>30.289258</td>\n",
       "      <td>0.000010</td>\n",
       "    </tr>\n",
       "    <tr>\n",
       "      <th>97.5%</th>\n",
       "      <td>1.245993</td>\n",
       "      <td>30.404829</td>\n",
       "      <td>0.148321</td>\n",
       "    </tr>\n",
       "  </tbody>\n",
       "</table>\n",
       "</div>"
      ],
      "text/plain": [
       "            shp        loc       scl\n",
       "2.5%  -0.319677  30.289258  0.000010\n",
       "97.5%  1.245993  30.404829  0.148321"
      ]
     },
     "execution_count": 146,
     "metadata": {},
     "output_type": "execute_result"
    }
   ],
   "source": [
    "btstrp_df.describe(percentiles=[.025, .975], ).loc[['2.5%', '97.5%'], :]"
   ]
  },
  {
   "cell_type": "code",
   "execution_count": 143,
   "metadata": {},
   "outputs": [
    {
     "data": {
      "text/plain": [
       "(1.2508483148595988, 30.34190953564741, 1.2131351836962896e-05)"
      ]
     },
     "execution_count": 143,
     "metadata": {},
     "output_type": "execute_result"
    }
   ],
   "source": [
    "shp, loc, scl"
   ]
  },
  {
   "cell_type": "code",
   "execution_count": 59,
   "metadata": {},
   "outputs": [],
   "source": [
    "from scipy import stats"
   ]
  },
  {
   "cell_type": "code",
   "execution_count": 61,
   "metadata": {},
   "outputs": [
    {
     "data": {
      "text/plain": [
       "Ttest_indResult(statistic=-6.197419743943228, pvalue=5.962862182910381e-10)"
      ]
     },
     "execution_count": 61,
     "metadata": {},
     "output_type": "execute_result"
    }
   ],
   "source": [
    "stats.ttest_ind(ds_region['1971-2000'].rf.values.flatten(),\n",
    "                ds_region['1941-1970'].rf.values.flatten())"
   ]
  },
  {
   "cell_type": "code",
   "execution_count": 63,
   "metadata": {},
   "outputs": [
    {
     "data": {
      "text/plain": [
       "95.83927"
      ]
     },
     "execution_count": 63,
     "metadata": {},
     "output_type": "execute_result"
    }
   ],
   "source": [
    "ds_region['1941-1970'].rf.values.flatten().mean()"
   ]
  },
  {
   "cell_type": "code",
   "execution_count": 39,
   "metadata": {},
   "outputs": [
    {
     "data": {
      "text/plain": [
       "Ks_2sampResult(statistic=0.06804733727810652, pvalue=1.1372184518685225e-10)"
      ]
     },
     "execution_count": 39,
     "metadata": {},
     "output_type": "execute_result"
    }
   ],
   "source": [
    "ks_2samp(ds_region['1971-2000'].rf.values.flatten(),\n",
    "         ds_region['1941-1970'].rf.values.flatten())"
   ]
  },
  {
   "cell_type": "code",
   "execution_count": 56,
   "metadata": {},
   "outputs": [
    {
     "data": {
      "text/plain": [
       "<matplotlib.axes._subplots.AxesSubplot at 0x7f221cd88668>"
      ]
     },
     "execution_count": 56,
     "metadata": {},
     "output_type": "execute_result"
    },
    {
     "data": {
      "image/png": "[encoded data removed]",
      "text/plain": [
       "<Figure size 432x288 with 1 Axes>"
      ]
     },
     "metadata": {
      "needs_background": "light"
     },
     "output_type": "display_data"
    }
   ],
   "source": [
    "df.plot(kind='bar')\n"
   ]
  },
  {
   "cell_type": "code",
   "execution_count": 73,
   "metadata": {},
   "outputs": [
    {
     "data": {
      "text/plain": [
       "<BarContainer object of 20 artists>"
      ]
     },
     "execution_count": 73,
     "metadata": {},
     "output_type": "execute_result"
    },
    {
     "data": {
      "image/png": "[encoded data removed]",
      "text/plain": [
       "<Figure size 432x288 with 1 Axes>"
      ]
     },
     "metadata": {
      "needs_background": "light"
     },
     "output_type": "display_data"
    }
   ],
   "source": [
    "fig, ax = plt.subplots()\n",
    "\n",
    "ax.bar(df.index, df['1971-2000'], width=8)\n",
    "ax.bar(df.index+8, df['1941-1970'], width=8)"
   ]
  },
  {
   "cell_type": "code",
   "execution_count": 77,
   "metadata": {},
   "outputs": [
    {
     "data": {
      "image/png": "[encoded data removed]",
      "text/plain": [
       "<Figure size 576x396 with 1 Axes>"
      ]
     },
     "metadata": {},
     "output_type": "display_data"
    }
   ],
   "source": [
    "region_vals = ds_region_y1.rf.values.flatten()\n",
    "\n",
    "shp, loc, scl = gev.fit(region_vals)\n",
    "\n",
    "x_grid = np.linspace(0, 500, 200)\n",
    "region_pdf = gev.pdf(x_grid, loc=loc, scale=scl, c=shp)\n",
    "\n",
    "plt.plot(x_grid, region_pdf)\n",
    "histplot = ds_region.rf.plot.hist(bins=20, edgecolor='white', density=True)\n",
    "\n",
    "region_vals = ds_region.rf.values.flatten()\n",
    "\n",
    "shp, loc, scl = gev.fit(region_vals)\n",
    "\n",
    "x_grid = np.linspace(0, 500, 200)\n",
    "region_pdf = gev.pdf(x_grid, loc=loc, scale=scl, c=shp)\n",
    "\n",
    "plt.plot(x_grid, region_pdf)\n",
    "histplot = ds_region.rf.plot.hist(bins=20, edgecolor='white', density=True)"
   ]
  },
  {
   "cell_type": "code",
   "execution_count": null,
   "metadata": {},
   "outputs": [],
   "source": []
  }
 ],
 "metadata": {
  "kernelspec": {
   "display_name": "Python 3",
   "language": "python",
   "name": "python3"
  },
  "language_info": {
   "codemirror_mode": {
    "name": "ipython",
    "version": 3
   },
   "file_extension": ".py",
   "mimetype": "text/x-python",
   "name": "python",
   "nbconvert_exporter": "python",
   "pygments_lexer": "ipython3",
   "version": "3.6.6"
  },
  "toc": {
   "base_numbering": 1,
   "nav_menu": {},
   "number_sections": true,
   "sideBar": true,
   "skip_h1_title": false,
   "title_cell": "Table of Contents",
   "title_sidebar": "Contents",
   "toc_cell": false,
   "toc_position": {},
   "toc_section_display": true,
   "toc_window_display": false
  },
  "varInspector": {
   "cols": {
    "lenName": 16,
    "lenType": 16,
    "lenVar": 40
   },
   "kernels_config": {
    "python": {
     "delete_cmd_postfix": "",
     "delete_cmd_prefix": "del ",
     "library": "var_list.py",
     "varRefreshCmd": "print(var_dic_list())"
    },
    "r": {
     "delete_cmd_postfix": ") ",
     "delete_cmd_prefix": "rm(",
     "library": "var_list.r",
     "varRefreshCmd": "cat(var_dic_list()) "
    }
   },
   "types_to_exclude": [
    "module",
    "function",
    "builtin_function_or_method",
    "instance",
    "_Feature"
   ],
   "window_display": false
  }
 },
 "nbformat": 4,
 "nbformat_minor": 2
}
